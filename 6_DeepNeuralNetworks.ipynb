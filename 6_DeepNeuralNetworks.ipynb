{
 "cells": [
  {
   "cell_type": "code",
   "execution_count": 1,
   "metadata": {},
   "outputs": [],
   "source": [
    "import torch\n",
    "import numpy as np\n",
    "import matplotlib.pyplot as plt\n",
    "import torch.nn as nn\n",
    "from sklearn import datasets\n",
    "from torchsummary import summary"
   ]
  },
  {
   "cell_type": "code",
   "execution_count": 2,
   "metadata": {},
   "outputs": [
    {
     "name": "stdout",
     "output_type": "stream",
     "text": [
      "(500, 2)\n"
     ]
    }
   ],
   "source": [
    "n_pts = 500\n",
    "centers = [[-0.5, 0.5], [0.5, -0.5]]\n",
    "#generate a cluster of random points centered around a chosen central point\n",
    "#https://scikit-learn.org/stable/modules/generated/sklearn.datasets.make_blobs.html\n",
    "X, y = datasets.make_circles(n_samples=n_pts, random_state=123, noise=0.1, factor=0.2)\n",
    "print(X.shape)\n",
    "#print(y)\n",
    "x_data = torch.Tensor(X)\n",
    "y_data = torch.Tensor(y.reshape(n_pts, 1))"
   ]
  },
  {
   "cell_type": "code",
   "execution_count": 3,
   "metadata": {},
   "outputs": [],
   "source": [
    "def scatter_plot():\n",
    "    plt.scatter(X[y==0, 0], X[y==0, 1])\n",
    "    plt.scatter(X[y==1, 0], X[y==1, 1])"
   ]
  },
  {
   "cell_type": "code",
   "execution_count": 4,
   "metadata": {},
   "outputs": [
    {
     "data": {
      "image/png": "[encoded data removed]",
      "text/plain": [
       "<Figure size 432x288 with 1 Axes>"
      ]
     },
     "metadata": {
      "needs_background": "light"
     },
     "output_type": "display_data"
    }
   ],
   "source": [
    "scatter_plot()"
   ]
  },
  {
   "cell_type": "code",
   "execution_count": 5,
   "metadata": {},
   "outputs": [],
   "source": [
    "class Model(nn.Module):\n",
    "    def __init__(self, input_size, H1, output_size):\n",
    "        super(Model, self).__init__()\n",
    "        self.linear = nn.Linear(input_size, H1) \n",
    "        self.linear2 = nn.Linear(H1, output_size)\n",
    "        #returns a linear outcome, in this case: return [x1, x2] x [w1, w2]^T + [b1]\n",
    "    def forward(self, x):\n",
    "        x = torch.sigmoid(self.linear(x)) #transformed to probability 1/(1+e^x)\n",
    "        x = torch.sigmoid(self.linear2(x))\n",
    "        return x\n",
    "    def predict(self, x):\n",
    "        pred = self.forward(x)\n",
    "        if pred >= 0.5:\n",
    "            return 1\n",
    "        else: return 0"
   ]
  },
  {
   "cell_type": "code",
   "execution_count": 6,
   "metadata": {},
   "outputs": [
    {
     "name": "stdout",
     "output_type": "stream",
     "text": [
      "[Parameter containing:\n",
      "tensor([[ 0.1622, -0.1683],\n",
      "        [ 0.1939, -0.0361],\n",
      "        [ 0.3021,  0.1683],\n",
      "        [-0.0813, -0.5717]], requires_grad=True), Parameter containing:\n",
      "tensor([ 0.1614, -0.6260,  0.0929,  0.0470], requires_grad=True), Parameter containing:\n",
      "tensor([[-0.1099,  0.4088,  0.0334,  0.2073]], requires_grad=True), Parameter containing:\n",
      "tensor([0.2116], requires_grad=True)]\n"
     ]
    }
   ],
   "source": [
    "torch.manual_seed(2)\n",
    "model = Model(2, 4, 1) # 4 Nodes in Hidden Layer\n",
    "print(list(model.parameters()))"
   ]
  },
  {
   "cell_type": "code",
   "execution_count": 7,
   "metadata": {},
   "outputs": [
    {
     "name": "stdout",
     "output_type": "stream",
     "text": [
      "----------------------------------------------------------------\n",
      "        Layer (type)               Output Shape         Param #\n",
      "================================================================\n",
      "            Linear-1              [-1, 1, 1, 4]              12\n",
      "            Linear-2              [-1, 1, 1, 1]               5\n",
      "================================================================\n",
      "Total params: 17\n",
      "Trainable params: 17\n",
      "Non-trainable params: 0\n",
      "----------------------------------------------------------------\n",
      "Input size (MB): 0.00\n",
      "Forward/backward pass size (MB): 0.00\n",
      "Params size (MB): 0.00\n",
      "Estimated Total Size (MB): 0.00\n",
      "----------------------------------------------------------------\n"
     ]
    }
   ],
   "source": [
    "device = torch.device(\"cuda\" if torch.cuda.is_available() else \"cpu\") # PyTorch v0.4.0\n",
    "model = Model(2,4,1).to(device)\n",
    "\n",
    "summary(model, (1, 1, 2))"
   ]
  },
  {
   "cell_type": "code",
   "execution_count": 8,
   "metadata": {},
   "outputs": [],
   "source": [
    "criterion = nn.BCELoss() #Binary Cross-Entropy Loss, aka Sigmoid Cross-Entropy loss\n",
    "optimizer = torch.optim.SGD(model.parameters() ,lr=0.1)"
   ]
  },
  {
   "cell_type": "code",
   "execution_count": 9,
   "metadata": {
    "scrolled": true
   },
   "outputs": [
    {
     "name": "stdout",
     "output_type": "stream",
     "text": [
      "1 % Loss = 0.6935439705848694\n",
      "2 % Loss = 0.6933737993240356\n",
      "3 % Loss = 0.6932189464569092\n",
      "4 % Loss = 0.693068265914917\n",
      "5 % Loss = 0.6929114460945129\n",
      "6 % Loss = 0.6927376985549927\n",
      "7 % Loss = 0.6925339698791504\n",
      "8 % Loss = 0.6922830939292908\n",
      "9 % Loss = 0.6919611096382141\n",
      "10 % Loss = 0.6915327310562134\n",
      "11 % Loss = 0.6909452080726624\n",
      "12 % Loss = 0.6901179552078247\n",
      "13 % Loss = 0.6889272332191467\n",
      "14 % Loss = 0.6871871948242188\n",
      "15 % Loss = 0.6846279501914978\n",
      "16 % Loss = 0.6808868646621704\n",
      "17 % Loss = 0.6755352020263672\n",
      "18 % Loss = 0.6681567430496216\n",
      "19 % Loss = 0.6584450006484985\n",
      "20 % Loss = 0.646202802658081\n",
      "21 % Loss = 0.6311419606208801\n",
      "22 % Loss = 0.6125908493995667\n",
      "23 % Loss = 0.5894634127616882\n",
      "24 % Loss = 0.5608561038970947\n",
      "25 % Loss = 0.5272953510284424\n",
      "26 % Loss = 0.4915924072265625\n",
      "27 % Loss = 0.4576236605644226\n",
      "28 % Loss = 0.4280119240283966\n",
      "28 % Loss = 0.4033052325248718\n",
      "30 % Loss = 0.3826046884059906\n",
      "31 % Loss = 0.36425885558128357\n",
      "32 % Loss = 0.34613263607025146\n",
      "33 % Loss = 0.32577580213546753\n",
      "34 % Loss = 0.30114278197288513\n",
      "35 % Loss = 0.27193349599838257\n",
      "36 % Loss = 0.24013063311576843\n",
      "37 % Loss = 0.20876742899417877\n",
      "38 % Loss = 0.1802888810634613\n",
      "39 % Loss = 0.15587866306304932\n",
      "40 % Loss = 0.13565415143966675\n",
      "41 % Loss = 0.11914833635091782\n",
      "42 % Loss = 0.10570699721574783\n",
      "43 % Loss = 0.09470200538635254\n",
      "44 % Loss = 0.08560804277658463\n",
      "45 % Loss = 0.07801171392202377\n",
      "46 % Loss = 0.07159579545259476\n",
      "47 % Loss = 0.0661187693476677\n",
      "48 % Loss = 0.06139639392495155\n",
      "49 % Loss = 0.05728720501065254\n",
      "50 % Loss = 0.0536816269159317\n",
      "51 % Loss = 0.05049394816160202\n",
      "52 % Loss = 0.04765647277235985\n",
      "53 % Loss = 0.04511504992842674\n",
      "54 % Loss = 0.04282604530453682\n",
      "55 % Loss = 0.04075390845537186\n",
      "56 % Loss = 0.038869474083185196\n",
      "56 % Loss = 0.03714853897690773\n",
      "57 % Loss = 0.03557084873318672\n",
      "59 % Loss = 0.034119393676519394\n",
      "60 % Loss = 0.032779764384031296\n",
      "61 % Loss = 0.03153960406780243\n",
      "62 % Loss = 0.03038838319480419\n",
      "63 % Loss = 0.029316937550902367\n",
      "64 % Loss = 0.02831735834479332\n",
      "65 % Loss = 0.027382738888263702\n",
      "66 % Loss = 0.02650703303515911\n",
      "67 % Loss = 0.025684887543320656\n",
      "68 % Loss = 0.024911604821681976\n",
      "69 % Loss = 0.02418302372097969\n",
      "70 % Loss = 0.023495417088270187\n",
      "71 % Loss = 0.022845471277832985\n",
      "72 % Loss = 0.022230228409171104\n",
      "73 % Loss = 0.021647008135914803\n",
      "74 % Loss = 0.021093396469950676\n",
      "75 % Loss = 0.02056725323200226\n",
      "76 % Loss = 0.02006656862795353\n",
      "77 % Loss = 0.019589604809880257\n",
      "78 % Loss = 0.01913471147418022\n",
      "79 % Loss = 0.01870039850473404\n",
      "80 % Loss = 0.018285343423485756\n",
      "81 % Loss = 0.01788828708231449\n",
      "82 % Loss = 0.017508119344711304\n",
      "83 % Loss = 0.017143776640295982\n",
      "84 % Loss = 0.01679430902004242\n",
      "85 % Loss = 0.016458848491311073\n",
      "86 % Loss = 0.016136547550559044\n",
      "87 % Loss = 0.015826696529984474\n",
      "88 % Loss = 0.015528540126979351\n",
      "89 % Loss = 0.015241480432450771\n",
      "90 % Loss = 0.014964887872338295\n",
      "91 % Loss = 0.014698220416903496\n",
      "92 % Loss = 0.014440963976085186\n",
      "93 % Loss = 0.014192615635693073\n",
      "94 % Loss = 0.013952706940472126\n",
      "95 % Loss = 0.013720874674618244\n",
      "96 % Loss = 0.013496685773134232\n",
      "97 % Loss = 0.013279766775667667\n",
      "98 % Loss = 0.013069750741124153\n",
      "99 % Loss = 0.01286639180034399\n",
      "100 % Loss = 0.012669320218265057\n"
     ]
    }
   ],
   "source": [
    "epochs = 20000\n",
    "losses = []\n",
    "for i in range(epochs):\n",
    "    if ((i+1) % (epochs/100) == 0):\n",
    "        print (int(((i+1) / epochs) * 100), '%', \"Loss =\", loss.item())\n",
    "    x_data = x_data.to(device)\n",
    "    y_data = y_data.to(device)\n",
    "    y_pred = model.forward(x_data)\n",
    "    loss = criterion(y_pred, y_data)\n",
    "    #print(\"epoch\", i, \"loss\", loss.item())\n",
    "    losses.append(loss.item())\n",
    "    optimizer.zero_grad()\n",
    "    loss.backward()\n",
    "    optimizer.step()"
   ]
  },
  {
   "cell_type": "code",
   "execution_count": 10,
   "metadata": {},
   "outputs": [
    {
     "data": {
      "text/plain": [
       "Text(0.5, 0, 'Epoch')"
      ]
     },
     "execution_count": 10,
     "metadata": {},
     "output_type": "execute_result"
    },
    {
     "data": {
      "image/png": "[encoded data removed]",
      "text/plain": [
       "<Figure size 432x288 with 1 Axes>"
      ]
     },
     "metadata": {
      "needs_background": "light"
     },
     "output_type": "display_data"
    }
   ],
   "source": [
    "plt.plot(range(epochs), losses)\n",
    "plt.ylabel(\"Loss\")\n",
    "plt.xlabel(\"Epoch\")"
   ]
  },
  {
   "cell_type": "code",
   "execution_count": 11,
   "metadata": {},
   "outputs": [],
   "source": [
    "def plot_decision_boundary(X, y):\n",
    "    x_span = np.linspace(min(X[:, 0])-.25, max(X[:, 0])+.25)\n",
    "    y_span = np.linspace(min(X[:, 1])-.25, max(X[:, 1])+.25)\n",
    "    xx, yy = np.meshgrid(x_span, y_span)\n",
    "    grid = torch.Tensor(np.c_[xx.ravel(), yy.ravel()]).to(device);\n",
    "    pred_func = model.forward(grid)\n",
    "    z = pred_func.view(xx.shape).detach().cpu().numpy()\n",
    "    plt.contourf(xx, yy, z)"
   ]
  },
  {
   "cell_type": "code",
   "execution_count": 12,
   "metadata": {},
   "outputs": [
    {
     "data": {
      "image/png": "[encoded data removed]",
      "text/plain": [
       "<Figure size 432x288 with 1 Axes>"
      ]
     },
     "metadata": {
      "needs_background": "light"
     },
     "output_type": "display_data"
    }
   ],
   "source": [
    "plot_decision_boundary(X, y)\n",
    "scatter_plot()"
   ]
  },
  {
   "cell_type": "code",
   "execution_count": 13,
   "metadata": {},
   "outputs": [
    {
     "name": "stdout",
     "output_type": "stream",
     "text": [
      "Prediction is  1\n"
     ]
    },
    {
     "data": {
      "image/png": "[encoded data removed]",
      "text/plain": [
       "<Figure size 432x288 with 1 Axes>"
      ]
     },
     "metadata": {
      "needs_background": "light"
     },
     "output_type": "display_data"
    }
   ],
   "source": [
    "point_x, point_y = 0.45, 0.025\n",
    "point = torch.Tensor([point_x, point_y]).to(device)\n",
    "prediction = model.predict(point)\n",
    "plt.plot([point_x], [point_y], marker='o', markersize=10, color=\"red\")\n",
    "print (\"Prediction is \", prediction)\n",
    "plot_decision_boundary(X,y)"
   ]
  },
  {
   "cell_type": "code",
   "execution_count": null,
   "metadata": {},
   "outputs": [],
   "source": []
  }
 ],
 "metadata": {
  "kernelspec": {
   "display_name": "Python 3",
   "language": "python",
   "name": "python3"
  },
  "language_info": {
   "codemirror_mode": {
    "name": "ipython",
    "version": 3
   },
   "file_extension": ".py",
   "mimetype": "text/x-python",
   "name": "python",
   "nbconvert_exporter": "python",
   "pygments_lexer": "ipython3",
   "version": "3.8.5"
  }
 },
 "nbformat": 4,
 "nbformat_minor": 4
}
